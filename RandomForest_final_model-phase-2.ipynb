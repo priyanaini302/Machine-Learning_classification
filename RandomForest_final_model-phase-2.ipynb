{
 "cells": [
  {
   "cell_type": "code",
   "execution_count": 2,
   "metadata": {},
   "outputs": [
    {
     "name": "stdout",
     "output_type": "stream",
     "text": [
      "Enter your Age:35\n",
      "Enter bp level:80\n",
      "Enter al level:1\n",
      "Enter su level:5\n",
      "Enter bgr level:150\n",
      "Enter bu level:35\n",
      "Enter sc level:45\n",
      "Enter sod level:65\n",
      "Enter pot level:14\n",
      "Enter hrmo level:25\n",
      "Enter pcv level:25\n",
      "Enter wc level:8500\n",
      "Enter rc level:5\n",
      "Enter sg_b 0 or 1:0\n",
      "Enter sg_c 0 or 1:0\n",
      "Enter sg_d 0 or 1:0\n",
      "Enter sg_e 0 or 1:0\n",
      "Enter rbc_normal 0 or 1:1\n",
      "Enter pc_normal 0 or 1:1\n",
      "Enter pcc_present 0 or 1:1\n",
      "Enter ba_present 0 or 1:0\n",
      "Enter htn_yes 0 or 1:0\n",
      "Enter dm_yes 0 or 1:1\n",
      "Enter cad_yes 0 or 1:0\n",
      "Enter appt_yes 0 or 1:0\n",
      "Enter pe_yes 0 or 1:1\n",
      "Enter ane_yes 0 or 1:0\n"
     ]
    },
    {
     "data": {
      "text/plain": [
       "array([1], dtype=uint8)"
      ]
     },
     "execution_count": 2,
     "metadata": {},
     "output_type": "execute_result"
    }
   ],
   "source": [
    "import pickle\n",
    "loded_model=pickle.load(open('Randomforestfinalmodel.sav','rb'))\n",
    "age=int(input(\"Enter your Age:\"))\n",
    "bp=float(input(\"Enter bp level:\"))\n",
    "al=float(input(\"Enter al level:\"))\n",
    "su=float(input(\"Enter su level:\"))\n",
    "bgr=float(input(\"Enter bgr level:\"))\n",
    "bu=float(input(\"Enter bu level:\"))\n",
    "sc=float(input(\"Enter sc level:\"))\n",
    "sod=float(input(\"Enter sod level:\"))\n",
    "pot=float(input(\"Enter pot level:\"))\n",
    "hrmo=float(input(\"Enter hrmo level:\"))\n",
    "pcv=float(input(\"Enter pcv level:\"))\n",
    "wc=float(input(\"Enter wc level:\"))\n",
    "rc=float(input(\"Enter rc level:\"))\n",
    "sg_b=int(input(\"Enter sg_b 0 or 1:\"))\n",
    "sg_c=int(input(\"Enter sg_c 0 or 1:\"))\n",
    "sg_d=int(input(\"Enter sg_d 0 or 1:\"))\n",
    "sg_e=int(input(\"Enter sg_e 0 or 1:\"))\n",
    "rbc_normal=int(input(\"Enter rbc_normal 0 or 1:\"))\n",
    "pc_normal=int(input(\"Enter pc_normal 0 or 1:\"))\n",
    "pcc_present=int(input(\"Enter pcc_present 0 or 1:\"))\n",
    "ba_present=int(input(\"Enter ba_present 0 or 1:\"))\n",
    "htn_yes=int(input(\"Enter htn_yes 0 or 1:\"))\n",
    "dm_yes=int(input(\"Enter dm_yes 0 or 1:\"))\n",
    "cad_yes=int(input(\"Enter cad_yes 0 or 1:\"))\n",
    "appet_yes=int(input(\"Enter appt_yes 0 or 1:\"))\n",
    "pe_yes=int(input(\"Enter pe_yes 0 or 1:\"))\n",
    "ane_yes=int(input(\"Enter ane_yes 0 or 1:\"))\n",
    "result=loded_model.predict([[age, bp, al, su, bgr, bu, sc, sod, pot, hrmo, pcv,\n",
    "       wc, rc, sg_b, sg_c, sg_d, sg_e, rbc_normal, pc_normal,\n",
    "       pcc_present, ba_present, htn_yes, dm_yes, cad_yes,\n",
    "       appet_yes, pe_yes, ane_yes]])\n",
    "result"
   ]
  },
  {
   "cell_type": "code",
   "execution_count": null,
   "metadata": {},
   "outputs": [],
   "source": []
  },
  {
   "cell_type": "code",
   "execution_count": null,
   "metadata": {},
   "outputs": [],
   "source": []
  }
 ],
 "metadata": {
  "kernelspec": {
   "display_name": "Python 3",
   "language": "python",
   "name": "python3"
  },
  "language_info": {
   "codemirror_mode": {
    "name": "ipython",
    "version": 3
   },
   "file_extension": ".py",
   "mimetype": "text/x-python",
   "name": "python",
   "nbconvert_exporter": "python",
   "pygments_lexer": "ipython3",
   "version": "3.7.4"
  }
 },
 "nbformat": 4,
 "nbformat_minor": 2
}
